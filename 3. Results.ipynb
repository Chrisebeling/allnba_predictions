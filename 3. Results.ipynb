{
 "cells": [
  {
   "cell_type": "code",
   "execution_count": null,
   "metadata": {},
   "outputs": [],
   "source": [
    "import pandas as pd\n",
    "import numpy as np\n",
    "import datetime as dt\n",
    "import pickle\n",
    "import matplotlib.pyplot as plt\n",
    "import joblib\n",
    "import shap\n",
    "\n",
    "from functions.xgboost import allnba_predict\n",
    "\n",
    "pd.options.display.max_columns=50\n",
    "pd.options.display.float_format = '{:.2f}'.format"
   ]
  },
  {
   "cell_type": "code",
   "execution_count": null,
   "metadata": {},
   "outputs": [],
   "source": [
    "with open('data/allnba_2021.pickle', 'rb') as f:\n",
    "    training_data, features, id_data = pickle.load(f)\n",
    "\n",
    "X = training_data[:,:-1]\n",
    "Y = training_data[:,-1].astype(int)\n",
    "\n",
    "m, n = X.shape\n",
    "\n",
    "assert X.shape[0] == Y.shape[0], 'X and Y must have the same number of training examples'\n",
    "\n",
    "print('Number of Features: {}'.format(n))\n",
    "print('Number of Training Examples: {}'.format(m))\n",
    "print('Percentage of Positive Examples: {:.1%}'.format(Y.sum()/m))"
   ]
  },
  {
   "cell_type": "code",
   "execution_count": null,
   "metadata": {},
   "outputs": [],
   "source": [
    "##### LOAD MODEL SNAPSHOT #####\n",
    "model_type = 'custom'\n",
    "if model_type=='kfold':\n",
    "    grid_result = joblib.load('data/model_snapshot_{}.pickle'.format(model_type))\n",
    "else:\n",
    "    best_model = joblib.load('data/model_snapshot_{}.pickle'.format(model_type))\n",
    "with open('data/data_snapshot_{}.pickle'.format(model_type), 'rb') as f:\n",
    "    if model_type == 'kfold':\n",
    "        [ind_train, ind_test, X_train, X_test, Y_train, Y_test] = pickle.load(f)\n",
    "    else:\n",
    "        [ind_train, ind_test, X_train, X_test, Y_train, Y_test, ind_val, X_val, Y_val] = pickle.load(f)"
   ]
  },
  {
   "cell_type": "code",
   "execution_count": null,
   "metadata": {},
   "outputs": [],
   "source": [
    "predictions, pred_df = allnba_predict(best_model.predict_proba(X)[:,1], id_data, pos_field='selected_pos')"
   ]
  },
  {
   "cell_type": "code",
   "execution_count": null,
   "metadata": {},
   "outputs": [],
   "source": [
    "top_x = 10\n",
    "# features_imp = grid_result.best_estimator_.feature_importances_\n",
    "features_imp = best_model.feature_importances_\n",
    "sorted_idx = features_imp.argsort()\n",
    "\n",
    "top_features = np.array(features)[sorted_idx][-top_x:]\n",
    "pos_field = 'selected_pos'\n",
    "id_cols = ['team','last_name','first_name',pos_field,'season']\n",
    "\n",
    "explainer = shap.TreeExplainer(best_model, feature_names=features)\n",
    "shap_output = explainer(X)"
   ]
  },
  {
   "cell_type": "code",
   "execution_count": null,
   "metadata": {},
   "outputs": [],
   "source": [
    "endgame = pred_df[(pred_df['proba'] >= pred_df['proba'].nlargest(22).min()) | (pred_df['y_pred'] == 1)][id_cols+list(top_features)+['y_pred','proba']].sort_values([pos_field, 'proba'], ascending=False).reset_index()\n",
    "current_idx=0\n",
    "endgame"
   ]
  },
  {
   "cell_type": "code",
   "execution_count": null,
   "metadata": {},
   "outputs": [],
   "source": [
    "current_player_details = endgame.loc[current_idx,:]\n",
    "print('{} {} - {}: {:.2f} ({:.2f})'.format(current_player_details['first_name'], current_player_details['last_name'], \n",
    "                                           current_player_details['season'], current_player_details['y_pred'], current_player_details['proba']))\n",
    "shap.plots.waterfall(shap_output[current_player_details['index']], max_display=15)\n",
    "current_idx += 1\n",
    "current_idx = current_idx % len(endgame)"
   ]
  },
  {
   "cell_type": "code",
   "execution_count": null,
   "metadata": {},
   "outputs": [],
   "source": []
  }
 ],
 "metadata": {
  "kernelspec": {
   "display_name": "Python 3",
   "language": "python",
   "name": "python3"
  },
  "language_info": {
   "codemirror_mode": {
    "name": "ipython",
    "version": 3
   },
   "file_extension": ".py",
   "mimetype": "text/x-python",
   "name": "python",
   "nbconvert_exporter": "python",
   "pygments_lexer": "ipython3",
   "version": "3.7.2"
  }
 },
 "nbformat": 4,
 "nbformat_minor": 4
}
