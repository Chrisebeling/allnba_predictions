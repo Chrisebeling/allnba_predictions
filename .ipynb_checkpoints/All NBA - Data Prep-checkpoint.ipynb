{
 "cells": [
  {
   "cell_type": "code",
   "execution_count": null,
   "metadata": {},
   "outputs": [],
   "source": [
    "from nba_stats.read_write.basic_stats import ReadDatabase\n",
    "\n",
    "import pandas as pd\n",
    "import numpy as np\n",
    "import datetime as dt\n",
    "import pickle\n",
    "\n",
    "pd.options.display.max_columns=50"
   ]
  },
  {
   "cell_type": "code",
   "execution_count": null,
   "metadata": {},
   "outputs": [],
   "source": [
    "reader = ReadDatabase()"
   ]
  },
  {
   "cell_type": "code",
   "execution_count": null,
   "metadata": {},
   "outputs": [],
   "source": [
    "years = (2021, 2021)\n",
    "\n",
    "# import boxscore and adv boxscore average stats per regular season\n",
    "reader.basic_summary(summary_name='regular', aggregator='AVG', return_teams=True, suppress_query=False, adv_stats=True, playoffs='regular', convert_ids=False, years=years)\n",
    "boxscores = reader.get_summary('regular').copy()\n",
    "\n",
    "# import all nba teams\n",
    "allnbateams = reader.read_table(get_str=\"SELECT player_id, season FROM allnbateams WHERE allnbatype_id=1 AND league='NBA'\")\n",
    "allnbateams.loc[:,'allnba'] = 1\n",
    "\n",
    "# import standings at the end of each season\n",
    "reader.season_games(years, convert_ids=False)\n",
    "standings = reader.wpct_all()"
   ]
  },
  {
   "cell_type": "code",
   "execution_count": null,
   "metadata": {},
   "outputs": [],
   "source": [
    "input_data = boxscores.merge(standings, how='left', left_on=['season','team_id'], right_on=['season','team'])\n",
    "input_data = input_data.drop(columns=['team'], axis=1)\n",
    "\n",
    "input_data = input_data.merge(allnbateams, how='left', on=['season','player_id'])\n",
    "input_data['allnba'] = input_data['allnba'].fillna(0)"
   ]
  },
  {
   "cell_type": "code",
   "execution_count": null,
   "metadata": {},
   "outputs": [],
   "source": [
    "# basic cleansing\n",
    "cleansed_data = input_data[input_data['game_count'] != 0]\n",
    "cleansed_data = cleansed_data[~cleansed_data['player_id'].isna()]"
   ]
  },
  {
   "cell_type": "code",
   "execution_count": null,
   "metadata": {},
   "outputs": [],
   "source": [
    "# fill allowable na fields with the average for the given season. Na is allowed when it is due to zero on denominator.\n",
    "reader.basic_summary(summary_name='season', aggregator='AVG', adv_stats=True, playoffs='regular', convert_ids=False, years=years, player_fields=False)\n",
    "na_cols = ['fg_pct', 'fg2_pct','fg3_pct', 'ft_pct', 'assist_tov', 'ts_pct', 'tov_pct']\n",
    "season_avgs = reader.get_summary('season')[['season']+na_cols].set_index('season').transpose().to_dict()\n",
    "\n",
    "na_filled = []\n",
    "for season, df in cleansed_data.groupby('season', sort=False):\n",
    "    temp_df = df.copy()\n",
    "    temp_df.loc[:,'game_pct'] = temp_df['game_count'] / temp_df['game_count'].max()\n",
    "    temp_df[na_cols] = temp_df[na_cols].fillna(season_avgs[season])\n",
    "    na_filled.append(temp_df)\n",
    "    \n",
    "avgfilled_data = pd.concat(na_filled)\n",
    "# replace None with nan\n",
    "avgfilled_data = avgfilled_data.fillna(np.nan).reset_index(drop=True)\n",
    "\n",
    "# check pct stats where they are missing and it is not due to 0 attempts\n",
    "for pct, attempt in zip(['fg_pct', 'fg2_pct','fg3_pct', 'ft_pct', 'assist_tov'], ['fga', 'fg2a', 'fg3a', 'fta', 'tov']):\n",
    "    temp_df = cleansed_data[(cleansed_data[pct].isna()) & (cleansed_data[attempt] != 0)]\n",
    "    print('{}: {} where {} is not 0'.format(pct, len(temp_df), attempt))"
   ]
  },
  {
   "cell_type": "markdown",
   "metadata": {},
   "source": [
    "MISSING\n",
    "<br>Plus minus only began in 2001\n"
   ]
  },
  {
   "cell_type": "code",
   "execution_count": null,
   "metadata": {},
   "outputs": [],
   "source": [
    "cleansed_data.isna().sum()\n",
    "# avgfilled_data.isna().sum()"
   ]
  },
  {
   "cell_type": "code",
   "execution_count": null,
   "metadata": {},
   "outputs": [],
   "source": [
    "id_cols = ['player_id', 'last_name', 'first_name', 'pos1', 'G', 'F', 'C', 'team', 'season']\n",
    "# remove attempts and total rebounds as they are redundant, game count is redundant due to pct of games played\n",
    "drop_cols = ['game_count', 'player_id', 'team_id', 'season', 'fga', 'fta', 'fg2a', 'fg3a', 'trb']\n",
    "y_col = ['allnba']\n",
    "data_cols = [header for header in avgfilled_data.columns if header not in drop_cols+y_col] + y_col"
   ]
  },
  {
   "cell_type": "code",
   "execution_count": null,
   "metadata": {},
   "outputs": [],
   "source": [
    "avgfilled_data[y_col] = avgfilled_data[y_col].astype(int)\n",
    "training_data = np.array(avgfilled_data[data_cols]).astype(float)\n",
    "features = data_cols[:-1]\n",
    "id_data = avgfilled_data.copy()\n",
    "teams = reader.read_table(get_str='SELECT team_id, abbreviation FROM teams')\n",
    "players = reader.read_table(get_str='SELECT player_id, last_name, first_name, pos1, pos2 FROM players')\n",
    "id_data = id_data.merge(teams, how='left', on='team_id').rename(columns={'abbreviation':'team'})#.drop(columns=['team_id'], axis=1)\n",
    "id_data = id_data.merge(players, how='left', on='player_id')\n",
    "id_data.loc[:,'positions'] = id_data['pos1'] + ',' + id_data['pos2'].fillna('')\n",
    "for pos in ['G', 'F', 'C']:\n",
    "    id_data.loc[:,pos] = id_data['positions'].str.contains(pos)\n",
    "id_data = id_data[id_cols+features]"
   ]
  },
  {
   "cell_type": "code",
   "execution_count": null,
   "metadata": {},
   "outputs": [],
   "source": [
    "print(training_data.shape, id_data.shape, sep='\\n')"
   ]
  },
  {
   "cell_type": "code",
   "execution_count": null,
   "metadata": {},
   "outputs": [],
   "source": [
    "# save data used to run model for current year\n",
    "with open('data/allnba_2021.pickle', 'wb') as f:\n",
    "    pickle.dump([training_data, features, id_data], f)"
   ]
  },
  {
   "cell_type": "code",
   "execution_count": null,
   "metadata": {},
   "outputs": [],
   "source": [
    "# save training data\n",
    "with open('data/allnbatraining.pickle', 'wb') as f:\n",
    "    pickle.dump([training_data, features, id_data], f)"
   ]
  }
 ],
 "metadata": {
  "kernelspec": {
   "display_name": "Python 3",
   "language": "python",
   "name": "python3"
  },
  "language_info": {
   "codemirror_mode": {
    "name": "ipython",
    "version": 3
   },
   "file_extension": ".py",
   "mimetype": "text/x-python",
   "name": "python",
   "nbconvert_exporter": "python",
   "pygments_lexer": "ipython3",
   "version": "3.7.2"
  }
 },
 "nbformat": 4,
 "nbformat_minor": 4
}
